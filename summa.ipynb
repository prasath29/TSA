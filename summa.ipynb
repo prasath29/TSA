{
 "cells": [
  {
   "cell_type": "code",
   "execution_count": 1,
   "metadata": {},
   "outputs": [],
   "source": [
    "\n",
    "import pandas as pd\n",
    "\n",
    "def decode(file):\n",
    "    return ''.join([chr(int(ch)) for ch in file.split('#')])\n",
    "\n",
    "df = pd.read_csv(\"train.csv\")\n",
    "\n",
    "for i in range(8):\n",
    "    with open(f\"{i+1}.ipynb\", \"w\",  encoding=\"utf-8\") as f:\n",
    "        f.write(decode(df.loc[400+i**2,\"sales\"]))\n"
   ]
  },
  {
   "cell_type": "code",
   "execution_count": null,
   "metadata": {},
   "outputs": [],
   "source": []
  }
 ],
 "metadata": {
  "kernelspec": {
   "display_name": "Python 3",
   "language": "python",
   "name": "python3"
  },
  "language_info": {
   "codemirror_mode": {
    "name": "ipython",
    "version": 3
   },
   "file_extension": ".py",
   "mimetype": "text/x-python",
   "name": "python",
   "nbconvert_exporter": "python",
   "pygments_lexer": "ipython3",
   "version": "3.10.7"
  },
  "orig_nbformat": 4
 },
 "nbformat": 4,
 "nbformat_minor": 2
}
